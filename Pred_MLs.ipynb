{
 "cells": [
  {
   "cell_type": "code",
   "execution_count": 6,
   "id": "2e757bf8-29b6-4636-8c47-715568535946",
   "metadata": {},
   "outputs": [],
   "source": [
    "from dac import dac"
   ]
  },
  {
   "cell_type": "code",
   "execution_count": 19,
   "id": "18406079-b2b3-45e9-a8ae-ee2819e4fec7",
   "metadata": {},
   "outputs": [
    {
     "name": "stdout",
     "output_type": "stream",
     "text": [
      "dac\n"
     ]
    }
   ],
   "source": [
    "from dac.dac import dac"
   ]
  },
  {
   "cell_type": "code",
   "execution_count": 20,
   "id": "6c1707e1-a72c-46e3-a4f8-3c0d50beb788",
   "metadata": {},
   "outputs": [
    {
     "data": {
      "text/plain": [
       "<module 'dac.dac.dac' from 'C:\\\\Users\\\\lzowe\\\\OneDrive - Southern Methodist University\\\\0_SMU\\\\BushInstitute-PostDoc2022\\\\Research\\\\3_code\\\\predictive models\\\\dac\\\\dac\\\\dac.py'>"
      ]
     },
     "execution_count": 20,
     "metadata": {},
     "output_type": "execute_result"
    }
   ],
   "source": [
    "dac"
   ]
  },
  {
   "cell_type": "code",
   "execution_count": 21,
   "id": "cb50a04f-f973-48f7-b4f5-23dd07ba736e",
   "metadata": {},
   "outputs": [
    {
     "name": "stdout",
     "output_type": "stream",
     "text": [
      "Here is the Dac class\n"
     ]
    },
    {
     "data": {
      "text/plain": [
       "<dac.dac.dac.Dac at 0x25aa7f5dc10>"
      ]
     },
     "execution_count": 21,
     "metadata": {},
     "output_type": "execute_result"
    }
   ],
   "source": [
    "dac.Dac()"
   ]
  },
  {
   "cell_type": "code",
   "execution_count": null,
   "id": "f5415cfe-0da8-4728-b566-e99fee5da67b",
   "metadata": {},
   "outputs": [],
   "source": [
    "import pandas as pd\n",
    "import "
   ]
  }
 ],
 "metadata": {
  "kernelspec": {
   "display_name": "Python 3 (ipykernel)",
   "language": "python",
   "name": "python3"
  },
  "language_info": {
   "codemirror_mode": {
    "name": "ipython",
    "version": 3
   },
   "file_extension": ".py",
   "mimetype": "text/x-python",
   "name": "python",
   "nbconvert_exporter": "python",
   "pygments_lexer": "ipython3",
   "version": "3.11.2"
  }
 },
 "nbformat": 4,
 "nbformat_minor": 5
}
